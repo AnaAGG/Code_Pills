{
 "cells": [
  {
   "cell_type": "markdown",
   "id": "200deb3d",
   "metadata": {
    "toc": true
   },
   "source": [
    "<h1>Table of Contents<span class=\"tocSkip\"></span></h1>\n",
    "<div class=\"toc\"><ul class=\"toc-item\"><li><span><a href=\"#How-to-install-libraries-in-R\" data-toc-modified-id=\"How-to-install-libraries-in-R-1\"><span class=\"toc-item-num\">1&nbsp;&nbsp;</span>How to install libraries in R</a></span></li><li><span><a href=\"#Import-libraries\" data-toc-modified-id=\"Import-libraries-2\"><span class=\"toc-item-num\">2&nbsp;&nbsp;</span>Import libraries</a></span></li><li><span><a href=\"#Load-data\" data-toc-modified-id=\"Load-data-3\"><span class=\"toc-item-num\">3&nbsp;&nbsp;</span>Load data</a></span></li><li><span><a href=\"#Exploratory-analysis\" data-toc-modified-id=\"Exploratory-analysis-4\"><span class=\"toc-item-num\">4&nbsp;&nbsp;</span>Exploratory analysis</a></span><ul class=\"toc-item\"><li><span><a href=\"#Dataframe-analysis\" data-toc-modified-id=\"Dataframe-analysis-4.1\"><span class=\"toc-item-num\">4.1&nbsp;&nbsp;</span>Dataframe analysis</a></span></li><li><span><a href=\"#Graphical-analysis\" data-toc-modified-id=\"Graphical-analysis-4.2\"><span class=\"toc-item-num\">4.2&nbsp;&nbsp;</span>Graphical analysis</a></span><ul class=\"toc-item\"><li><span><a href=\"#Scatter-plot\" data-toc-modified-id=\"Scatter-plot-4.2.1\"><span class=\"toc-item-num\">4.2.1&nbsp;&nbsp;</span>Scatter plot</a></span></li><li><span><a href=\"#Check-Outliers\" data-toc-modified-id=\"Check-Outliers-4.2.2\"><span class=\"toc-item-num\">4.2.2&nbsp;&nbsp;</span>Check Outliers</a></span></li><li><span><a href=\"#Density-plot-–-Check-if-the-response-variable-is-close-to-normality\" data-toc-modified-id=\"Density-plot-–-Check-if-the-response-variable-is-close-to-normality-4.2.3\"><span class=\"toc-item-num\">4.2.3&nbsp;&nbsp;</span>Density plot – Check if the response variable is close to normality</a></span></li><li><span><a href=\"#Correlation-plot\" data-toc-modified-id=\"Correlation-plot-4.2.4\"><span class=\"toc-item-num\">4.2.4&nbsp;&nbsp;</span>Correlation plot</a></span></li></ul></li></ul></li><li><span><a href=\"#Modelling-the-data\" data-toc-modified-id=\"Modelling-the-data-5\"><span class=\"toc-item-num\">5&nbsp;&nbsp;</span>Modelling the data</a></span><ul class=\"toc-item\"><li><span><a href=\"#Split-data-set-into-80:20-train-and-test-data\" data-toc-modified-id=\"Split-data-set-into-80:20-train-and-test-data-5.1\"><span class=\"toc-item-num\">5.1&nbsp;&nbsp;</span>Split data set into 80:20 train and test data</a></span></li><li><span><a href=\"#Building-linear-regression-model\" data-toc-modified-id=\"Building-linear-regression-model-5.2\"><span class=\"toc-item-num\">5.2&nbsp;&nbsp;</span>Building linear regression model</a></span><ul class=\"toc-item\"><li><span><a href=\"#Null-model\" data-toc-modified-id=\"Null-model-5.2.1\"><span class=\"toc-item-num\">5.2.1&nbsp;&nbsp;</span>Null model</a></span></li><li><span><a href=\"#Model-with-all-variables\" data-toc-modified-id=\"Model-with-all-variables-5.2.2\"><span class=\"toc-item-num\">5.2.2&nbsp;&nbsp;</span>Model with all variables</a></span></li></ul></li><li><span><a href=\"#Variable-Selection\" data-toc-modified-id=\"Variable-Selection-5.3\"><span class=\"toc-item-num\">5.3&nbsp;&nbsp;</span>Variable Selection</a></span></li></ul></li></ul></div>"
   ]
  },
  {
   "cell_type": "markdown",
   "id": "9eed8b1a",
   "metadata": {},
   "source": [
    "# How to install libraries in R"
   ]
  },
  {
   "cell_type": "code",
   "execution_count": null,
   "id": "16387c0d",
   "metadata": {},
   "outputs": [],
   "source": [
    "install.packages(\"corrplot\")\n",
    "install.packages(\"ggplot2\")"
   ]
  },
  {
   "cell_type": "markdown",
   "id": "af34173f",
   "metadata": {},
   "source": [
    "# Import libraries"
   ]
  },
  {
   "cell_type": "code",
   "execution_count": null,
   "id": "1a45e3b8",
   "metadata": {},
   "outputs": [],
   "source": [
    "library(MASS)\n",
    "library(ggplot2)\n",
    "library(dplyr)\n",
    "library(tidyverse)\n",
    "library(corrplot)\n",
    "library(Rcpp)\n",
    "library(olsrr)\n",
    "library(rpart)\n",
    "library(mgcv)\n",
    "library(boot)\n",
    "library(rpart)\n",
    "library(rpart.plot)"
   ]
  },
  {
   "cell_type": "markdown",
   "id": "1dc8e7d5",
   "metadata": {},
   "source": [
    "# Load data"
   ]
  },
  {
   "cell_type": "markdown",
   "id": "ab428a33",
   "metadata": {},
   "source": [
    "`getwd` returns an absolute filepath representing the current working directory of the R process"
   ]
  },
  {
   "cell_type": "code",
   "execution_count": null,
   "id": "c57be655",
   "metadata": {},
   "outputs": [],
   "source": [
    "getwd()"
   ]
  },
  {
   "cell_type": "markdown",
   "id": "f51ed83d",
   "metadata": {},
   "source": [
    "And you might consider changing the path that you get as a result of this function, maybe to the folder in which you have stored your data set:\n",
    "```r\n",
    "setwd(\"<location of your dataset>\")\n",
    "````"
   ]
  },
  {
   "cell_type": "code",
   "execution_count": null,
   "id": "6acf68bc",
   "metadata": {},
   "outputs": [],
   "source": [
    "setwd('/Users/anagarciagarcia/other_repos/workshop_R')"
   ]
  },
  {
   "cell_type": "code",
   "execution_count": null,
   "id": "29a5aac1",
   "metadata": {},
   "outputs": [],
   "source": [
    "head(Boston, 2)"
   ]
  },
  {
   "cell_type": "code",
   "execution_count": null,
   "id": "ec73763e",
   "metadata": {},
   "outputs": [],
   "source": [
    "data(Boston, package=\"MASS\")"
   ]
  },
  {
   "cell_type": "markdown",
   "id": "b34d1a6d",
   "metadata": {},
   "source": [
    "Columns we have:\n",
    "- CRIM - per capita crime rate by town\n",
    "\n",
    "\n",
    "- ZN - proportion of residential land zoned for lots over 25,000 sq.ft.\n",
    "\n",
    "\n",
    "- INDUS - proportion of non-retail business acres per town.\n",
    "\n",
    "\n",
    "- CHAS - Charles River dummy variable (1 if tract bounds river; 0 otherwise)\n",
    "\n",
    "\n",
    "- NOX - nitric oxides concentration (parts per 10 million)\n",
    "\n",
    "\n",
    "- RM - average number of rooms per dwelling\n",
    "\n",
    "\n",
    "- AGE - proportion of owner-occupied units built prior to 1940\n",
    "\n",
    "\n",
    "- DIS - weighted distances to five Boston employment centres\n",
    "\n",
    "\n",
    "- RAD - index of accessibility to radial highways\n",
    "\n",
    "\n",
    "- TAX - full-value property-tax rate per 10,000 dolars\n",
    "\n",
    "\n",
    "- PTRATIO - pupil-teacher ratio by town\n",
    "\n",
    "\n",
    "- B - 1000(Bk - 0.63)^2 where Bk is the proportion of blacks by town\n",
    "\n",
    "\n",
    "- LSTAT - % lower status of the population\n",
    "\n",
    "\n",
    "- MEDV - Median value of owner-occupied homes in $1000's"
   ]
  },
  {
   "cell_type": "markdown",
   "id": "abad5c4a",
   "metadata": {},
   "source": [
    "# Exploratory analysis"
   ]
  },
  {
   "cell_type": "markdown",
   "id": "511475e7",
   "metadata": {},
   "source": [
    "##  Dataframe analysis"
   ]
  },
  {
   "cell_type": "markdown",
   "id": "65c42aa4",
   "metadata": {},
   "source": [
    "The shape of the dataframe, the shape method in python"
   ]
  },
  {
   "cell_type": "code",
   "execution_count": null,
   "id": "33d1bfcd",
   "metadata": {
    "scrolled": true
   },
   "outputs": [],
   "source": [
    "dim(Boston)"
   ]
  },
  {
   "cell_type": "markdown",
   "id": "7a20e6dd",
   "metadata": {},
   "source": [
    "Displaying the internal structure of a R object, the dtypes in python"
   ]
  },
  {
   "cell_type": "code",
   "execution_count": null,
   "id": "d625cfc7",
   "metadata": {},
   "outputs": [],
   "source": [
    "str(Boston)"
   ]
  },
  {
   "cell_type": "markdown",
   "id": "fc34b0d4",
   "metadata": {},
   "source": [
    "Summary statistics"
   ]
  },
  {
   "cell_type": "code",
   "execution_count": null,
   "id": "f893dae9",
   "metadata": {},
   "outputs": [],
   "source": [
    "summary(Boston)"
   ]
  },
  {
   "cell_type": "markdown",
   "id": "a2b380a2",
   "metadata": {},
   "source": [
    "Check for missing values"
   ]
  },
  {
   "cell_type": "code",
   "execution_count": null,
   "id": "49600be3",
   "metadata": {},
   "outputs": [],
   "source": [
    "sum(is.na(Boston))"
   ]
  },
  {
   "cell_type": "markdown",
   "id": "0b382d45",
   "metadata": {},
   "source": [
    "Check for duplicated values"
   ]
  },
  {
   "cell_type": "code",
   "execution_count": null,
   "id": "6e8cb535",
   "metadata": {},
   "outputs": [],
   "source": [
    "sum(duplicated(Boston))"
   ]
  },
  {
   "cell_type": "markdown",
   "id": "00d78e90",
   "metadata": {},
   "source": [
    "## Graphical analysis"
   ]
  },
  {
   "cell_type": "markdown",
   "id": "13c7c382",
   "metadata": {},
   "source": [
    "The aim of this exercise is to build a simple regression model that we can use to predict MEDV - Median value of owner-occupied homes by establishing a statistically significant linear relationship with multiple variables. \n",
    "\n",
    "But before jumping in to the syntax, lets try to understand these variables graphically. Typically, for each of the independent variables (predictors), the following plots are drawn to visualize the following behavior:\n",
    "\n",
    "- **Scatter plot**: Visualize the linear relationship between the predictor and response\n",
    "\n",
    "\n",
    "- **Box plot**: To spot any outlier observations in the variable. Having outliers in your predictor can drastically affect the predictions as they can easily affect the direction/slope of the line of best fit.\n",
    "\n",
    "\n",
    "- **Density plot**: To see the distribution of the predictor variable. Ideally, a close to normal distribution (a bell shaped curve), without being skewed to the left or right is preferred. Let us see how to make each one of them.\n",
    "\n",
    "\n",
    "- **Correlation plot**: is a statistical measure that suggests the level of linear dependence between two variables, that occur in pair "
   ]
  },
  {
   "cell_type": "markdown",
   "id": "3913ad22",
   "metadata": {},
   "source": [
    "### Scatter plot "
   ]
  },
  {
   "cell_type": "code",
   "execution_count": null,
   "id": "df9c0d13",
   "metadata": {},
   "outputs": [],
   "source": [
    "scatter.smooth(x=df$medv, y=df$age, main=\"medv ~ age\")  # scatterplot"
   ]
  },
  {
   "cell_type": "markdown",
   "id": "4a20e764",
   "metadata": {},
   "source": [
    "### Check Outliers"
   ]
  },
  {
   "cell_type": "code",
   "execution_count": null,
   "id": "cb7f5d1c",
   "metadata": {},
   "outputs": [],
   "source": [
    "par(mfrow=c(2, 2))  # divide graph area in 2 columns\n",
    "boxplot(df$age, main=\"age\", sub=paste(\"Outlier rows: \", boxplot.stats(df$age)$out))  # box plot for 'age'\n",
    "boxplot(df$zn, main=\"zn\", sub=paste(\"Outlier rows: \", boxplot.stats(df$zn)$out))  # box plot for 'distance'\n",
    "\n",
    "boxplot(df$indus, main=\"indus\", sub=paste(\"Outlier rows: \", boxplot.stats(df$indus)$out))  # box plot for 'indus'\n",
    "boxplot(df$nox, main=\"nox\", sub=paste(\"Outlier rows: \", boxplot.stats(df$nox)$out))  # box plot for 'nox'\n"
   ]
  },
  {
   "cell_type": "markdown",
   "id": "535a7f0e",
   "metadata": {},
   "source": [
    "### Density plot – Check if the response variable is close to normality"
   ]
  },
  {
   "cell_type": "code",
   "execution_count": null,
   "id": "af1bcce4",
   "metadata": {},
   "outputs": [],
   "source": [
    "plot(density(df$medv), main=\"Density Plot: medv\", ylab=\"Frequency\", 2)  # density plot for 'speed'\n",
    "polygon(density(df$medv), col=\"grey\")"
   ]
  },
  {
   "cell_type": "markdown",
   "id": "4b271740",
   "metadata": {},
   "source": [
    "### Correlation plot"
   ]
  },
  {
   "cell_type": "code",
   "execution_count": null,
   "id": "ae1f1816",
   "metadata": {},
   "outputs": [],
   "source": [
    "#checking correlation between variables\n",
    "corrplot(cor(Boston), method = \"number\", type = \"upper\", diag = FALSE)"
   ]
  },
  {
   "cell_type": "markdown",
   "id": "78435216",
   "metadata": {},
   "source": [
    "**Conclusions of the correlation analysis**\n",
    "\n",
    "- There are no missing or duplicate values.\n",
    "\n",
    "\n",
    "- From correlation matrix, some of the observations made are as follows:\n",
    "\n",
    "    - Median value of `owner-occupied homes` increases as average number of rooms per dwelling increases and it decreases if percent of lower status population in the area increases. \n",
    "    \n",
    "    - `nox` (nitrogen oxides concentration (ppm)) increases with increase in proportion of non-retail business acres per town and proportion of owner-occupied units built prior to 1940.\n",
    "    \n",
    "    - `rad` and `tax` have a strong positive correlation of 0.91 which implies that as accessibility of radial highways increases, the full value property-tax rate per $10,000 also increases.\n",
    "\n",
    "    - `crim` is strongly associated with variables `rad` and `tax` which implies as accessibility to radial highways increases, per capita crime rate increases.\n",
    "    \n",
    "    - `indus` has strong positive correlation with `nox`, which supports the notion that nitrogen oxides concentration is high in industrial areas."
   ]
  },
  {
   "cell_type": "markdown",
   "id": "b3f69eb3",
   "metadata": {},
   "source": [
    "# Modelling the data"
   ]
  },
  {
   "cell_type": "markdown",
   "id": "c79ce376",
   "metadata": {},
   "source": [
    "## Split data set into 80:20 train and test data"
   ]
  },
  {
   "cell_type": "code",
   "execution_count": null,
   "id": "d357146d",
   "metadata": {},
   "outputs": [],
   "source": [
    "set.seed(12383010) # Set seed for reproducibility as random_state in python\n",
    "index <- sample(nrow(df), nrow(df) * 0.80)\n",
    "df.train <- df[index, ]\n",
    "df.test <- df[-index, ]"
   ]
  },
  {
   "cell_type": "code",
   "execution_count": null,
   "id": "7223d925",
   "metadata": {},
   "outputs": [],
   "source": [
    "head(df.test,3)"
   ]
  },
  {
   "cell_type": "code",
   "execution_count": null,
   "id": "b452b836",
   "metadata": {},
   "outputs": [],
   "source": [
    "head(df.train, 3)"
   ]
  },
  {
   "cell_type": "markdown",
   "id": "38a14946",
   "metadata": {},
   "source": [
    "## Building linear regression model"
   ]
  },
  {
   "cell_type": "markdown",
   "id": "318afb71",
   "metadata": {},
   "source": [
    "### Null model "
   ]
  },
  {
   "cell_type": "code",
   "execution_count": null,
   "id": "d6922018",
   "metadata": {},
   "outputs": [],
   "source": [
    "model1 <- lm(medv ~ 1, data = dfn.train)\n",
    "model1.sum <- summary(model1)\n",
    "model1.sum"
   ]
  },
  {
   "cell_type": "markdown",
   "id": "7ef1543e",
   "metadata": {},
   "source": [
    "### Model with all variables "
   ]
  },
  {
   "cell_type": "code",
   "execution_count": null,
   "id": "4d4d16c3",
   "metadata": {},
   "outputs": [],
   "source": [
    "model2 <- lm(medv ~ ., data = df.train)\n",
    "model2.sum <- summary(model2)\n",
    "model2.sum"
   ]
  },
  {
   "cell_type": "markdown",
   "id": "5363a151",
   "metadata": {},
   "source": [
    "Is this enough to actually use this model? **NO!** Before using a regression model, you have to ensure that it is statistically significant. How do you ensure this? Lets begin by printing the summary statistics for linearMod."
   ]
  },
  {
   "cell_type": "markdown",
   "id": "fbb14c18",
   "metadata": {},
   "source": [
    "**Interpreting R’s Regression Output**\n",
    "\n",
    "- **Residuals**: The section summarizes the residuals, the error between the prediction of the model and the actual results.  Smaller residuals are better.\n",
    "\n",
    "\n",
    "- **Coefficients**: For each variable and the intercept, a weight is produced and that weight has other attributes like the standard error, a t-test value and significance.\n",
    "\n",
    "\n",
    "    - *Estimate*: This is the weight given to the variable.  In the simple regression case (one variable plus the intercept), for every one dollar increase in Spend, the model predicts an increase of $10.6222.\n",
    "    \n",
    "    - *Std. Error*: Tells you how precisely was the estimate measured.  It’s really only useful for calculating the t-value.\n",
    "    \n",
    "    - *t-value and Pr(>[t])*: The t-value is calculated by taking the coefficient divided by the Std. Error.  It is then used to test whether or not the coefficient is significantly different from zero.  If it isn’t significant, then the coefficient really isn’t adding anything to the model and could be dropped or investigated further.  Pr(>|t|) is the significance level.\n",
    "    \n",
    "    \n",
    "    \n",
    "- **Performance Measures**: Three sets of measurements are provided.\n",
    "\n",
    "\n",
    "    - *Residual Standard Error*: This is the standard deviation of the residuals.  Smaller is better.\n",
    "    \n",
    "    - *Multiple / Adjusted R-Square*: For one variable, the distinction doesn’t really matter.  R-squared shows the amount of variance explained by the model.  Adjusted R-Square takes into account the number of variables and is most useful for multiple-regression.\n",
    "    \n",
    "    - *F-Statistic*: The F-test checks if at least one variable’s weight is significantly different than zero.  This is a global test to help asses a model.  If the p-value is not significant (e.g. greater than 0.05) than your model is essentially not doing anything."
   ]
  },
  {
   "cell_type": "markdown",
   "id": "b1f59ef3",
   "metadata": {},
   "source": [
    "## Variable Selection"
   ]
  },
  {
   "cell_type": "markdown",
   "id": "6f9bfbe2",
   "metadata": {},
   "source": [
    "Best subset (13 variable) and stepwise (forward, backward, both) techniques of variable selection were used to come up with the best linear regression model for the dependent variable medv."
   ]
  },
  {
   "cell_type": "code",
   "execution_count": null,
   "id": "e3d72bb3",
   "metadata": {},
   "outputs": [],
   "source": [
    "ols_step_all_possible(model)"
   ]
  },
  {
   "cell_type": "markdown",
   "id": "ba72312c",
   "metadata": {},
   "source": [
    "The function `summary()` reports the best set of variables for each model size. \n",
    "\n",
    "For example, it can be seen that the best 2-variables model contains only `lstat` and `rm` variables (mdev ~ lstat + rm). The best three-variable model is (Fertility ~ lstat + rm + pt.ratio), and so forth.\n",
    "\n",
    "> A natural question is: which of these best models should we finally choose for our predictive analytics?"
   ]
  },
  {
   "cell_type": "code",
   "execution_count": null,
   "id": "46b21612",
   "metadata": {},
   "outputs": [],
   "source": [
    "ols_step_best_subset(model)"
   ]
  },
  {
   "cell_type": "markdown",
   "id": "ebf84d04",
   "metadata": {},
   "source": [
    "**Further Materials**\n",
    "\n",
    "- [cor method](https://www.rdocumentation.org/packages/stats/versions/3.6.2/topics/cor)\n",
    "- [regsubsets](https://www.rdocumentation.org/packages/leaps/versions/3.1/topics/regsubsets)\n",
    "- [ols_step](https://cran.r-project.org/web/packages/olsrr/vignettes/variable_selection.html)"
   ]
  },
  {
   "cell_type": "code",
   "execution_count": null,
   "id": "497b7e05",
   "metadata": {},
   "outputs": [],
   "source": [
    "x"
   ]
  }
 ],
 "metadata": {
  "kernelspec": {
   "display_name": "R",
   "language": "R",
   "name": "ir"
  },
  "language_info": {
   "codemirror_mode": "r",
   "file_extension": ".r",
   "mimetype": "text/x-r-source",
   "name": "R",
   "pygments_lexer": "r",
   "version": "4.1.0"
  },
  "toc": {
   "base_numbering": 1,
   "nav_menu": {},
   "number_sections": true,
   "sideBar": true,
   "skip_h1_title": false,
   "title_cell": "Table of Contents",
   "title_sidebar": "Contents",
   "toc_cell": true,
   "toc_position": {},
   "toc_section_display": true,
   "toc_window_display": false
  }
 },
 "nbformat": 4,
 "nbformat_minor": 5
}
